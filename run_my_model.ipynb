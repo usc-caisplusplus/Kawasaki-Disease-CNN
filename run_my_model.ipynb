{
 "cells": [
  {
   "cell_type": "code",
   "execution_count": 1,
   "metadata": {},
   "outputs": [],
   "source": [
    "import second_model_nllloss"
   ]
  },
  {
   "cell_type": "code",
   "execution_count": 2,
   "metadata": {},
   "outputs": [
    {
     "name": "stdout",
     "output_type": "stream",
     "text": [
      "Epoch: 1 \tTraining Loss: 0.838451 \tValidation Loss: 0.633017 \tValidation Accuracy: 0.655134\n",
      "Epoch: 2 \tTraining Loss: 0.593037 \tValidation Loss: 0.520333 \tValidation Accuracy: 0.729911\n",
      "Epoch: 3 \tTraining Loss: 0.532259 \tValidation Loss: 0.469226 \tValidation Accuracy: 0.761161\n",
      "Epoch: 4 \tTraining Loss: 0.427016 \tValidation Loss: 0.639911 \tValidation Accuracy: 0.694196\n",
      "Epoch: 5 \tTraining Loss: 0.592843 \tValidation Loss: 0.505408 \tValidation Accuracy: 0.795759\n",
      "Epoch: 6 \tTraining Loss: 0.464317 \tValidation Loss: 0.464663 \tValidation Accuracy: 0.760045\n",
      "Epoch: 7 \tTraining Loss: 0.457285 \tValidation Loss: 0.411709 \tValidation Accuracy: 0.787946\n",
      "Epoch: 8 \tTraining Loss: 0.425826 \tValidation Loss: 0.441471 \tValidation Accuracy: 0.792411\n",
      "Epoch: 9 \tTraining Loss: 0.442431 \tValidation Loss: 0.521166 \tValidation Accuracy: 0.694196\n",
      "Epoch: 10 \tTraining Loss: 0.435948 \tValidation Loss: 0.354128 \tValidation Accuracy: 0.808036\n"
     ]
    }
   ],
   "source": [
    "second_model_nllloss.main('Dataset_full/Tongues','tongue_secondmodel.pt')"
   ]
  },
  {
   "cell_type": "code",
   "execution_count": 3,
   "metadata": {},
   "outputs": [
    {
     "name": "stdout",
     "output_type": "stream",
     "text": [
      "Epoch: 1 \tTraining Loss: 1.438833 \tValidation Loss: 0.683432 \tValidation Accuracy: 0.225000\n",
      "Epoch: 2 \tTraining Loss: 0.825424 \tValidation Loss: 0.606836 \tValidation Accuracy: 0.853125\n",
      "Epoch: 3 \tTraining Loss: 0.595794 \tValidation Loss: 0.573180 \tValidation Accuracy: 0.628125\n",
      "Epoch: 4 \tTraining Loss: 0.609938 \tValidation Loss: 0.566818 \tValidation Accuracy: 0.951042\n",
      "Epoch: 5 \tTraining Loss: 0.525688 \tValidation Loss: 0.511085 \tValidation Accuracy: 0.628125\n",
      "Epoch: 6 \tTraining Loss: 0.625292 \tValidation Loss: 0.369026 \tValidation Accuracy: 0.902083\n",
      "Epoch: 7 \tTraining Loss: 0.473186 \tValidation Loss: 0.551441 \tValidation Accuracy: 0.550000\n",
      "Epoch: 8 \tTraining Loss: 0.448207 \tValidation Loss: 0.355156 \tValidation Accuracy: 0.966667\n",
      "Epoch: 9 \tTraining Loss: 0.454365 \tValidation Loss: 0.383585 \tValidation Accuracy: 0.726042\n",
      "Epoch: 10 \tTraining Loss: 0.439288 \tValidation Loss: 0.310454 \tValidation Accuracy: 0.953125\n"
     ]
    }
   ],
   "source": [
    "second_model_nllloss.main('Dataset_full/Eyes','eyes_secondmodel.pt')#add more epochs and try again"
   ]
  },
  {
   "cell_type": "code",
   "execution_count": 4,
   "metadata": {},
   "outputs": [
    {
     "name": "stdout",
     "output_type": "stream",
     "text": [
      "Epoch: 1 \tTraining Loss: 0.901172 \tValidation Loss: 0.563162 \tValidation Accuracy: 0.802083\n",
      "Epoch: 2 \tTraining Loss: 0.568694 \tValidation Loss: 0.469680 \tValidation Accuracy: 0.875000\n",
      "Epoch: 3 \tTraining Loss: 0.618622 \tValidation Loss: 0.444405 \tValidation Accuracy: 0.854167\n",
      "Epoch: 4 \tTraining Loss: 0.513044 \tValidation Loss: 0.314637 \tValidation Accuracy: 0.864583\n",
      "Epoch: 5 \tTraining Loss: 0.365612 \tValidation Loss: 0.416076 \tValidation Accuracy: 0.875000\n",
      "Epoch: 6 \tTraining Loss: 0.321357 \tValidation Loss: 0.299744 \tValidation Accuracy: 0.895833\n",
      "Epoch: 7 \tTraining Loss: 0.299103 \tValidation Loss: 0.712168 \tValidation Accuracy: 0.729167\n",
      "Epoch: 8 \tTraining Loss: 0.343564 \tValidation Loss: 0.287438 \tValidation Accuracy: 0.854167\n",
      "Epoch: 9 \tTraining Loss: 0.368376 \tValidation Loss: 0.581276 \tValidation Accuracy: 0.718750\n",
      "Epoch: 10 \tTraining Loss: 0.415533 \tValidation Loss: 0.314853 \tValidation Accuracy: 0.875000\n"
     ]
    }
   ],
   "source": [
    "second_model_nllloss.main('Dataset_full/Lips','lips_secondmodel.pt')"
   ]
  },
  {
   "cell_type": "code",
   "execution_count": 5,
   "metadata": {},
   "outputs": [
    {
     "name": "stdout",
     "output_type": "stream",
     "text": [
      "Epoch: 1 \tTraining Loss: 0.804299 \tValidation Loss: 0.567854 \tValidation Accuracy: 0.583750\n",
      "Epoch: 2 \tTraining Loss: 0.539793 \tValidation Loss: 0.352877 \tValidation Accuracy: 0.847500\n",
      "Epoch: 3 \tTraining Loss: 0.370673 \tValidation Loss: 0.296484 \tValidation Accuracy: 0.892500\n",
      "Epoch: 4 \tTraining Loss: 0.310390 \tValidation Loss: 0.328429 \tValidation Accuracy: 0.861250\n",
      "Epoch: 5 \tTraining Loss: 0.372893 \tValidation Loss: 1.085242 \tValidation Accuracy: 0.692500\n",
      "Epoch: 6 \tTraining Loss: 0.573435 \tValidation Loss: 0.507249 \tValidation Accuracy: 0.657500\n",
      "Epoch: 7 \tTraining Loss: 0.380665 \tValidation Loss: 0.274024 \tValidation Accuracy: 0.853750\n",
      "Epoch: 8 \tTraining Loss: 0.388483 \tValidation Loss: 0.288318 \tValidation Accuracy: 0.903750\n",
      "Epoch: 9 \tTraining Loss: 0.255177 \tValidation Loss: 0.219685 \tValidation Accuracy: 0.918750\n",
      "Epoch: 10 \tTraining Loss: 0.282642 \tValidation Loss: 0.213199 \tValidation Accuracy: 0.925000\n"
     ]
    }
   ],
   "source": [
    "second_model_nllloss.main('Dataset_full/Skin','skin_secondmodel.pt')"
   ]
  },
  {
   "cell_type": "code",
   "execution_count": null,
   "metadata": {},
   "outputs": [],
   "source": []
  },
  {
   "cell_type": "code",
   "execution_count": 8,
   "metadata": {},
   "outputs": [],
   "source": [
    "import second_model_crossentropyloss"
   ]
  },
  {
   "cell_type": "code",
   "execution_count": 9,
   "metadata": {},
   "outputs": [
    {
     "name": "stdout",
     "output_type": "stream",
     "text": [
      "Epoch: 1 \tTraining Loss: 1.187529 \tValidation Loss: 0.605667 \tValidation Accuracy: 0.667411\n",
      "Epoch: 2 \tTraining Loss: 0.720560 \tValidation Loss: 0.571219 \tValidation Accuracy: 0.757812\n",
      "Epoch: 3 \tTraining Loss: 0.616411 \tValidation Loss: 0.577712 \tValidation Accuracy: 0.741071\n",
      "Epoch: 4 \tTraining Loss: 0.552145 \tValidation Loss: 0.495734 \tValidation Accuracy: 0.772321\n",
      "Epoch: 5 \tTraining Loss: 0.530800 \tValidation Loss: 0.531817 \tValidation Accuracy: 0.748884\n",
      "Epoch: 6 \tTraining Loss: 0.489418 \tValidation Loss: 0.556412 \tValidation Accuracy: 0.697545\n",
      "Epoch: 7 \tTraining Loss: 0.485679 \tValidation Loss: 0.440809 \tValidation Accuracy: 0.804688\n",
      "Epoch: 8 \tTraining Loss: 0.406415 \tValidation Loss: 0.450423 \tValidation Accuracy: 0.783482\n",
      "Epoch: 9 \tTraining Loss: 0.399297 \tValidation Loss: 0.428070 \tValidation Accuracy: 0.851562\n",
      "Epoch: 10 \tTraining Loss: 0.440456 \tValidation Loss: 0.359896 \tValidation Accuracy: 0.862723\n"
     ]
    }
   ],
   "source": [
    "second_model_crossentropyloss.main('Dataset_full/Tongues','tongue_2nd_crossentropy.pt')"
   ]
  },
  {
   "cell_type": "code",
   "execution_count": 10,
   "metadata": {},
   "outputs": [
    {
     "name": "stdout",
     "output_type": "stream",
     "text": [
      "Epoch: 1 \tTraining Loss: 1.061253 \tValidation Loss: 0.743124 \tValidation Accuracy: 0.144792\n",
      "Epoch: 2 \tTraining Loss: 0.916535 \tValidation Loss: 0.986161 \tValidation Accuracy: 0.097917\n",
      "Epoch: 3 \tTraining Loss: 0.811944 \tValidation Loss: 0.573863 \tValidation Accuracy: 0.906250\n",
      "Epoch: 4 \tTraining Loss: 0.523227 \tValidation Loss: 0.709077 \tValidation Accuracy: 0.436458\n",
      "Epoch: 5 \tTraining Loss: 0.581503 \tValidation Loss: 0.548534 \tValidation Accuracy: 0.839583\n",
      "Epoch: 6 \tTraining Loss: 0.470503 \tValidation Loss: 0.594899 \tValidation Accuracy: 0.741667\n",
      "Epoch: 7 \tTraining Loss: 0.470423 \tValidation Loss: 0.479209 \tValidation Accuracy: 0.953125\n",
      "Epoch: 8 \tTraining Loss: 0.605483 \tValidation Loss: 0.496521 \tValidation Accuracy: 0.741667\n",
      "Epoch: 9 \tTraining Loss: 0.433248 \tValidation Loss: 0.584095 \tValidation Accuracy: 0.745833\n",
      "Epoch: 10 \tTraining Loss: 0.423194 \tValidation Loss: 0.633332 \tValidation Accuracy: 0.806250\n"
     ]
    }
   ],
   "source": [
    "second_model_crossentropyloss.main('Dataset_full/Eyes','eyes_2nd_crossentropy.pt') #add more epochs and try again"
   ]
  },
  {
   "cell_type": "code",
   "execution_count": 11,
   "metadata": {},
   "outputs": [
    {
     "name": "stdout",
     "output_type": "stream",
     "text": [
      "Epoch: 1 \tTraining Loss: 1.383217 \tValidation Loss: 0.726056 \tValidation Accuracy: 0.552083\n",
      "Epoch: 2 \tTraining Loss: 0.682486 \tValidation Loss: 0.673601 \tValidation Accuracy: 0.604167\n",
      "Epoch: 3 \tTraining Loss: 0.619401 \tValidation Loss: 0.618195 \tValidation Accuracy: 0.802083\n",
      "Epoch: 4 \tTraining Loss: 0.572021 \tValidation Loss: 0.530477 \tValidation Accuracy: 0.822917\n",
      "Epoch: 5 \tTraining Loss: 0.510642 \tValidation Loss: 0.609973 \tValidation Accuracy: 0.697917\n",
      "Epoch: 6 \tTraining Loss: 0.489258 \tValidation Loss: 0.685424 \tValidation Accuracy: 0.572917\n",
      "Epoch: 7 \tTraining Loss: 0.412587 \tValidation Loss: 0.385647 \tValidation Accuracy: 0.864583\n",
      "Epoch: 8 \tTraining Loss: 0.400912 \tValidation Loss: 0.743619 \tValidation Accuracy: 0.718750\n",
      "Epoch: 9 \tTraining Loss: 0.399540 \tValidation Loss: 0.370212 \tValidation Accuracy: 0.750000\n",
      "Epoch: 10 \tTraining Loss: 0.309618 \tValidation Loss: 0.340675 \tValidation Accuracy: 0.875000\n"
     ]
    }
   ],
   "source": [
    "second_model_crossentropyloss.main('Dataset_full/Lips','lips_2nd_crossentropy.pt')"
   ]
  },
  {
   "cell_type": "code",
   "execution_count": 12,
   "metadata": {},
   "outputs": [
    {
     "name": "stdout",
     "output_type": "stream",
     "text": [
      "Epoch: 1 \tTraining Loss: 1.062132 \tValidation Loss: 0.769245 \tValidation Accuracy: 0.271250\n",
      "Epoch: 2 \tTraining Loss: 0.591138 \tValidation Loss: 0.537385 \tValidation Accuracy: 0.825000\n",
      "Epoch: 3 \tTraining Loss: 0.495765 \tValidation Loss: 0.624310 \tValidation Accuracy: 0.595000\n",
      "Epoch: 4 \tTraining Loss: 0.447776 \tValidation Loss: 0.300184 \tValidation Accuracy: 0.893750\n",
      "Epoch: 5 \tTraining Loss: 0.374533 \tValidation Loss: 0.291221 \tValidation Accuracy: 0.923750\n",
      "Epoch: 6 \tTraining Loss: 0.388664 \tValidation Loss: 0.385152 \tValidation Accuracy: 0.791250\n",
      "Epoch: 7 \tTraining Loss: 0.347156 \tValidation Loss: 0.320047 \tValidation Accuracy: 0.881250\n",
      "Epoch: 8 \tTraining Loss: 0.297318 \tValidation Loss: 0.291706 \tValidation Accuracy: 0.905000\n",
      "Epoch: 9 \tTraining Loss: 0.313222 \tValidation Loss: 0.210151 \tValidation Accuracy: 0.923750\n",
      "Epoch: 10 \tTraining Loss: 0.232192 \tValidation Loss: 0.242689 \tValidation Accuracy: 0.936250\n"
     ]
    }
   ],
   "source": [
    "second_model_crossentropyloss.main('Dataset_full/Skin','skin_2nd_crossentropy.pt')"
   ]
  },
  {
   "cell_type": "code",
   "execution_count": null,
   "metadata": {},
   "outputs": [],
   "source": []
  },
  {
   "cell_type": "code",
   "execution_count": 26,
   "metadata": {},
   "outputs": [],
   "source": [
    "# import second_model_bcewithlogitsloss"
   ]
  },
  {
   "cell_type": "code",
   "execution_count": 27,
   "metadata": {},
   "outputs": [
    {
     "ename": "NameError",
     "evalue": "name 'weight' is not defined",
     "output_type": "error",
     "traceback": [
      "\u001b[0;31m---------------------------------------------------------------------------\u001b[0m",
      "\u001b[0;31mNameError\u001b[0m                                 Traceback (most recent call last)",
      "\u001b[0;32m<ipython-input-27-da7d68a29e1b>\u001b[0m in \u001b[0;36m<module>\u001b[0;34m\u001b[0m\n\u001b[0;32m----> 1\u001b[0;31m \u001b[0msecond_model_bcewithlogitsloss\u001b[0m\u001b[0;34m.\u001b[0m\u001b[0mmain\u001b[0m\u001b[0;34m(\u001b[0m\u001b[0;34m'Dataset_full/Tongues'\u001b[0m\u001b[0;34m,\u001b[0m\u001b[0;34m'tongue_2nd_bcewithlogits.pt'\u001b[0m\u001b[0;34m)\u001b[0m\u001b[0;34m\u001b[0m\u001b[0;34m\u001b[0m\u001b[0m\n\u001b[0m",
      "\u001b[0;32m/mnt/c/Users/shuya/Desktop/cais/Kawasaki-Disease-CNN/second_model_bcewithlogitsloss.py\u001b[0m in \u001b[0;36mmain\u001b[0;34m(image_dir, out_path)\u001b[0m\n\u001b[1;32m     93\u001b[0m     \u001b[0mloader_valid\u001b[0m \u001b[0;34m=\u001b[0m \u001b[0mDataLoader\u001b[0m\u001b[0;34m(\u001b[0m\u001b[0mdataset\u001b[0m\u001b[0;34m,\u001b[0m \u001b[0mbatch_size\u001b[0m\u001b[0;34m=\u001b[0m\u001b[0;36m32\u001b[0m\u001b[0;34m,\u001b[0m \u001b[0msampler\u001b[0m\u001b[0;34m=\u001b[0m\u001b[0msampler_valid\u001b[0m\u001b[0;34m,\u001b[0m \u001b[0mnum_workers\u001b[0m\u001b[0;34m=\u001b[0m\u001b[0;36m0\u001b[0m\u001b[0;34m)\u001b[0m\u001b[0;34m\u001b[0m\u001b[0;34m\u001b[0m\u001b[0m\n\u001b[1;32m     94\u001b[0m \u001b[0;34m\u001b[0m\u001b[0m\n\u001b[0;32m---> 95\u001b[0;31m     \u001b[0mmodel\u001b[0m\u001b[0;34m,\u001b[0m \u001b[0mdevice\u001b[0m\u001b[0;34m,\u001b[0m \u001b[0mcriterion\u001b[0m\u001b[0;34m,\u001b[0m \u001b[0moptimizer\u001b[0m \u001b[0;34m=\u001b[0m \u001b[0mbuild\u001b[0m\u001b[0;34m(\u001b[0m\u001b[0mneg_datasize\u001b[0m\u001b[0;34m,\u001b[0m \u001b[0mpos_datasize\u001b[0m\u001b[0;34m)\u001b[0m\u001b[0;34m\u001b[0m\u001b[0;34m\u001b[0m\u001b[0m\n\u001b[0m\u001b[1;32m     96\u001b[0m \u001b[0;34m\u001b[0m\u001b[0m\n\u001b[1;32m     97\u001b[0m     \u001b[0;34m\"\"\"TRAINING------------------------------------------------------------------\"\"\"\u001b[0m\u001b[0;34m\u001b[0m\u001b[0;34m\u001b[0m\u001b[0m\n",
      "\u001b[0;32m/mnt/c/Users/shuya/Desktop/cais/Kawasaki-Disease-CNN/second_model_bcewithlogitsloss.py\u001b[0m in \u001b[0;36mbuild\u001b[0;34m(neg_size, pos_size)\u001b[0m\n\u001b[1;32m     55\u001b[0m     \u001b[0mlargest_size\u001b[0m \u001b[0;34m=\u001b[0m \u001b[0mfloat\u001b[0m\u001b[0;34m(\u001b[0m\u001b[0mmax\u001b[0m\u001b[0;34m(\u001b[0m\u001b[0mneg_size\u001b[0m\u001b[0;34m,\u001b[0m \u001b[0mpos_size\u001b[0m\u001b[0;34m)\u001b[0m\u001b[0;34m)\u001b[0m \u001b[0;31m#float to avoid int division\u001b[0m\u001b[0;34m\u001b[0m\u001b[0;34m\u001b[0m\u001b[0m\n\u001b[1;32m     56\u001b[0m     \u001b[0mw\u001b[0m \u001b[0;34m=\u001b[0m \u001b[0;34m[\u001b[0m\u001b[0mlargest_size\u001b[0m\u001b[0;34m/\u001b[0m\u001b[0mneg_size\u001b[0m\u001b[0;34m,\u001b[0m \u001b[0mlargest_size\u001b[0m\u001b[0;34m/\u001b[0m\u001b[0mpos_size\u001b[0m\u001b[0;34m]\u001b[0m\u001b[0;34m\u001b[0m\u001b[0;34m\u001b[0m\u001b[0m\n\u001b[0;32m---> 57\u001b[0;31m     \u001b[0mclass_weights\u001b[0m \u001b[0;34m=\u001b[0m \u001b[0mtorch\u001b[0m\u001b[0;34m.\u001b[0m\u001b[0mFloatTensor\u001b[0m\u001b[0;34m(\u001b[0m\u001b[0mw\u001b[0m\u001b[0;34m)\u001b[0m\u001b[0;34m.\u001b[0m\u001b[0mto\u001b[0m\u001b[0;34m(\u001b[0m\u001b[0mdevice\u001b[0m\u001b[0;34m)\u001b[0m\u001b[0;34m\u001b[0m\u001b[0;34m\u001b[0m\u001b[0m\n\u001b[0m\u001b[1;32m     58\u001b[0m     \u001b[0mcriterion\u001b[0m \u001b[0;34m=\u001b[0m \u001b[0mnn\u001b[0m\u001b[0;34m.\u001b[0m\u001b[0mBCEWithLogitsLoss\u001b[0m\u001b[0;34m(\u001b[0m\u001b[0mweight\u001b[0m\u001b[0;34m=\u001b[0m\u001b[0mclass_weights\u001b[0m\u001b[0;34m)\u001b[0m\u001b[0;34m\u001b[0m\u001b[0;34m\u001b[0m\u001b[0m\n\u001b[1;32m     59\u001b[0m     \u001b[0moptimizer\u001b[0m \u001b[0;34m=\u001b[0m \u001b[0mtorch\u001b[0m\u001b[0;34m.\u001b[0m\u001b[0moptim\u001b[0m\u001b[0;34m.\u001b[0m\u001b[0mAdam\u001b[0m\u001b[0;34m(\u001b[0m\u001b[0mmodel\u001b[0m\u001b[0;34m.\u001b[0m\u001b[0mclassifier\u001b[0m\u001b[0;34m.\u001b[0m\u001b[0mparameters\u001b[0m\u001b[0;34m(\u001b[0m\u001b[0;34m)\u001b[0m\u001b[0;34m,\u001b[0m \u001b[0mlr\u001b[0m\u001b[0;34m=\u001b[0m\u001b[0;36m0.003\u001b[0m\u001b[0;34m)\u001b[0m\u001b[0;34m\u001b[0m\u001b[0;34m\u001b[0m\u001b[0m\n",
      "\u001b[0;31mNameError\u001b[0m: name 'weight' is not defined"
     ]
    }
   ],
   "source": [
    "# second_model_bcewithlogitsloss.main('Dataset_full/Tongues','tongue_2nd_bcewithlogits.pt')"
   ]
  },
  {
   "cell_type": "code",
   "execution_count": 21,
   "metadata": {},
   "outputs": [
    {
     "ename": "NameError",
     "evalue": "name 'weight' is not defined",
     "output_type": "error",
     "traceback": [
      "\u001b[0;31m---------------------------------------------------------------------------\u001b[0m",
      "\u001b[0;31mNameError\u001b[0m                                 Traceback (most recent call last)",
      "\u001b[0;32m<ipython-input-21-5fe9478f0125>\u001b[0m in \u001b[0;36m<module>\u001b[0;34m\u001b[0m\n\u001b[0;32m----> 1\u001b[0;31m \u001b[0msecond_model_bcewithlogitsloss\u001b[0m\u001b[0;34m.\u001b[0m\u001b[0mmain\u001b[0m\u001b[0;34m(\u001b[0m\u001b[0;34m'Dataset_full/Eyes'\u001b[0m\u001b[0;34m,\u001b[0m\u001b[0;34m'eyes_2nd_bcewithlogits.pt'\u001b[0m\u001b[0;34m)\u001b[0m\u001b[0;34m\u001b[0m\u001b[0;34m\u001b[0m\u001b[0m\n\u001b[0m",
      "\u001b[0;32m/mnt/c/Users/shuya/Desktop/cais/Kawasaki-Disease-CNN/second_model_bcewithlogitsloss.py\u001b[0m in \u001b[0;36mmain\u001b[0;34m(image_dir, out_path)\u001b[0m\n\u001b[1;32m     93\u001b[0m     \u001b[0mloader_valid\u001b[0m \u001b[0;34m=\u001b[0m \u001b[0mDataLoader\u001b[0m\u001b[0;34m(\u001b[0m\u001b[0mdataset\u001b[0m\u001b[0;34m,\u001b[0m \u001b[0mbatch_size\u001b[0m\u001b[0;34m=\u001b[0m\u001b[0;36m32\u001b[0m\u001b[0;34m,\u001b[0m \u001b[0msampler\u001b[0m\u001b[0;34m=\u001b[0m\u001b[0msampler_valid\u001b[0m\u001b[0;34m,\u001b[0m \u001b[0mnum_workers\u001b[0m\u001b[0;34m=\u001b[0m\u001b[0;36m0\u001b[0m\u001b[0;34m)\u001b[0m\u001b[0;34m\u001b[0m\u001b[0;34m\u001b[0m\u001b[0m\n\u001b[1;32m     94\u001b[0m \u001b[0;34m\u001b[0m\u001b[0m\n\u001b[0;32m---> 95\u001b[0;31m     \u001b[0mmodel\u001b[0m\u001b[0;34m,\u001b[0m \u001b[0mdevice\u001b[0m\u001b[0;34m,\u001b[0m \u001b[0mcriterion\u001b[0m\u001b[0;34m,\u001b[0m \u001b[0moptimizer\u001b[0m \u001b[0;34m=\u001b[0m \u001b[0mbuild\u001b[0m\u001b[0;34m(\u001b[0m\u001b[0mneg_datasize\u001b[0m\u001b[0;34m,\u001b[0m \u001b[0mpos_datasize\u001b[0m\u001b[0;34m)\u001b[0m\u001b[0;34m\u001b[0m\u001b[0;34m\u001b[0m\u001b[0m\n\u001b[0m\u001b[1;32m     96\u001b[0m \u001b[0;34m\u001b[0m\u001b[0m\n\u001b[1;32m     97\u001b[0m     \u001b[0;34m\"\"\"TRAINING------------------------------------------------------------------\"\"\"\u001b[0m\u001b[0;34m\u001b[0m\u001b[0;34m\u001b[0m\u001b[0m\n",
      "\u001b[0;32m/mnt/c/Users/shuya/Desktop/cais/Kawasaki-Disease-CNN/second_model_bcewithlogitsloss.py\u001b[0m in \u001b[0;36mbuild\u001b[0;34m(neg_size, pos_size)\u001b[0m\n\u001b[1;32m     55\u001b[0m     \u001b[0mlargest_size\u001b[0m \u001b[0;34m=\u001b[0m \u001b[0mfloat\u001b[0m\u001b[0;34m(\u001b[0m\u001b[0mmax\u001b[0m\u001b[0;34m(\u001b[0m\u001b[0mneg_size\u001b[0m\u001b[0;34m,\u001b[0m \u001b[0mpos_size\u001b[0m\u001b[0;34m)\u001b[0m\u001b[0;34m)\u001b[0m \u001b[0;31m#float to avoid int division\u001b[0m\u001b[0;34m\u001b[0m\u001b[0;34m\u001b[0m\u001b[0m\n\u001b[1;32m     56\u001b[0m     \u001b[0mw\u001b[0m \u001b[0;34m=\u001b[0m \u001b[0;34m[\u001b[0m\u001b[0mlargest_size\u001b[0m\u001b[0;34m/\u001b[0m\u001b[0mpos_size\u001b[0m\u001b[0;34m]\u001b[0m\u001b[0;34m\u001b[0m\u001b[0;34m\u001b[0m\u001b[0m\n\u001b[0;32m---> 57\u001b[0;31m     \u001b[0mclass_weight\u001b[0m \u001b[0;34m=\u001b[0m \u001b[0mtorch\u001b[0m\u001b[0;34m.\u001b[0m\u001b[0mFloatTensor\u001b[0m\u001b[0;34m(\u001b[0m\u001b[0mw\u001b[0m\u001b[0;34m)\u001b[0m\u001b[0;34m.\u001b[0m\u001b[0mto\u001b[0m\u001b[0;34m(\u001b[0m\u001b[0mdevice\u001b[0m\u001b[0;34m)\u001b[0m\u001b[0;34m\u001b[0m\u001b[0;34m\u001b[0m\u001b[0m\n\u001b[0m\u001b[1;32m     58\u001b[0m     \u001b[0mcriterion\u001b[0m \u001b[0;34m=\u001b[0m \u001b[0mnn\u001b[0m\u001b[0;34m.\u001b[0m\u001b[0mBCEWithLogitsLoss\u001b[0m\u001b[0;34m(\u001b[0m\u001b[0mpos_weight\u001b[0m \u001b[0;34m=\u001b[0m \u001b[0mclass_weight\u001b[0m\u001b[0;34m)\u001b[0m\u001b[0;34m\u001b[0m\u001b[0;34m\u001b[0m\u001b[0m\n\u001b[1;32m     59\u001b[0m     \u001b[0moptimizer\u001b[0m \u001b[0;34m=\u001b[0m \u001b[0mtorch\u001b[0m\u001b[0;34m.\u001b[0m\u001b[0moptim\u001b[0m\u001b[0;34m.\u001b[0m\u001b[0mAdam\u001b[0m\u001b[0;34m(\u001b[0m\u001b[0mmodel\u001b[0m\u001b[0;34m.\u001b[0m\u001b[0mclassifier\u001b[0m\u001b[0;34m.\u001b[0m\u001b[0mparameters\u001b[0m\u001b[0;34m(\u001b[0m\u001b[0;34m)\u001b[0m\u001b[0;34m,\u001b[0m \u001b[0mlr\u001b[0m\u001b[0;34m=\u001b[0m\u001b[0;36m0.003\u001b[0m\u001b[0;34m)\u001b[0m\u001b[0;34m\u001b[0m\u001b[0;34m\u001b[0m\u001b[0m\n",
      "\u001b[0;31mNameError\u001b[0m: name 'weight' is not defined"
     ]
    }
   ],
   "source": [
    "# second_model_bcewithlogitsloss.main('Dataset_full/Eyes','eyes_2nd_bcewithlogits.pt')"
   ]
  },
  {
   "cell_type": "code",
   "execution_count": null,
   "metadata": {},
   "outputs": [],
   "source": [
    "# second_model_bcewithlogitsloss.main('Dataset_full/Lips','lips_2nd_bcewithlogits.pt')"
   ]
  },
  {
   "cell_type": "code",
   "execution_count": null,
   "metadata": {},
   "outputs": [],
   "source": [
    "# second_model_bcewithlogitsloss.main('Dataset_full/Skin','skin_2nd_bcewithlogits.pt')"
   ]
  },
  {
   "cell_type": "code",
   "execution_count": 1,
   "metadata": {},
   "outputs": [],
   "source": [
    "import second_model_20epochs"
   ]
  },
  {
   "cell_type": "code",
   "execution_count": 30,
   "metadata": {},
   "outputs": [
    {
     "name": "stdout",
     "output_type": "stream",
     "text": [
      "Epoch: 1 \tTraining Loss: 1.163075 \tValidation Loss: 0.622037 \tValidation Accuracy: 0.674107\n",
      "Epoch: 2 \tTraining Loss: 0.737495 \tValidation Loss: 0.555602 \tValidation Accuracy: 0.750000\n",
      "Epoch: 3 \tTraining Loss: 0.624389 \tValidation Loss: 0.583480 \tValidation Accuracy: 0.714286\n",
      "Epoch: 4 \tTraining Loss: 0.561846 \tValidation Loss: 0.594679 \tValidation Accuracy: 0.720982\n",
      "Epoch: 5 \tTraining Loss: 0.522212 \tValidation Loss: 0.421609 \tValidation Accuracy: 0.792411\n",
      "Epoch: 6 \tTraining Loss: 0.532663 \tValidation Loss: 0.669391 \tValidation Accuracy: 0.568080\n",
      "Epoch: 7 \tTraining Loss: 0.517483 \tValidation Loss: 0.425999 \tValidation Accuracy: 0.756696\n",
      "Epoch: 8 \tTraining Loss: 0.446129 \tValidation Loss: 0.456487 \tValidation Accuracy: 0.724330\n",
      "Epoch: 9 \tTraining Loss: 0.449301 \tValidation Loss: 0.394168 \tValidation Accuracy: 0.854911\n",
      "Epoch: 10 \tTraining Loss: 0.452621 \tValidation Loss: 0.402527 \tValidation Accuracy: 0.787946\n",
      "Epoch: 11 \tTraining Loss: 0.416968 \tValidation Loss: 0.347651 \tValidation Accuracy: 0.823661\n",
      "Epoch: 12 \tTraining Loss: 0.394749 \tValidation Loss: 0.428815 \tValidation Accuracy: 0.756696\n",
      "Epoch: 13 \tTraining Loss: 0.406963 \tValidation Loss: 0.388964 \tValidation Accuracy: 0.823661\n",
      "Epoch: 14 \tTraining Loss: 0.373889 \tValidation Loss: 0.340727 \tValidation Accuracy: 0.870536\n",
      "Epoch: 15 \tTraining Loss: 0.376721 \tValidation Loss: 0.337454 \tValidation Accuracy: 0.890625\n",
      "Epoch: 16 \tTraining Loss: 0.325401 \tValidation Loss: 0.549013 \tValidation Accuracy: 0.780134\n",
      "Epoch: 17 \tTraining Loss: 0.375583 \tValidation Loss: 0.294888 \tValidation Accuracy: 0.898438\n",
      "Epoch: 18 \tTraining Loss: 0.381540 \tValidation Loss: 0.318173 \tValidation Accuracy: 0.898438\n",
      "Epoch: 19 \tTraining Loss: 0.352567 \tValidation Loss: 0.383707 \tValidation Accuracy: 0.800223\n",
      "Epoch: 20 \tTraining Loss: 0.386094 \tValidation Loss: 0.317724 \tValidation Accuracy: 0.875000\n"
     ]
    },
    {
     "ename": "NameError",
     "evalue": "name 'test_loader' is not defined",
     "output_type": "error",
     "traceback": [
      "\u001b[0;31m---------------------------------------------------------------------------\u001b[0m",
      "\u001b[0;31mNameError\u001b[0m                                 Traceback (most recent call last)",
      "\u001b[0;32m<ipython-input-30-16edb1547c80>\u001b[0m in \u001b[0;36m<module>\u001b[0;34m\u001b[0m\n\u001b[0;32m----> 1\u001b[0;31m \u001b[0msecond_model_20epochs\u001b[0m\u001b[0;34m.\u001b[0m\u001b[0mmain\u001b[0m\u001b[0;34m(\u001b[0m\u001b[0;34m'Dataset_full/Tongues'\u001b[0m\u001b[0;34m,\u001b[0m\u001b[0;34m'tongue_2nd_20epochs.pt'\u001b[0m\u001b[0;34m)\u001b[0m\u001b[0;34m\u001b[0m\u001b[0;34m\u001b[0m\u001b[0m\n\u001b[0m",
      "\u001b[0;32m/mnt/c/Users/shuya/Desktop/cais/Kawasaki-Disease-CNN/second_model_20epochs.py\u001b[0m in \u001b[0;36mmain\u001b[0;34m(image_dir, out_path)\u001b[0m\n\u001b[1;32m    164\u001b[0m \u001b[0;34m\u001b[0m\u001b[0m\n\u001b[1;32m    165\u001b[0m     \u001b[0;34m\"\"\"TESTING------------------------------------------------------------------\"\"\"\u001b[0m\u001b[0;34m\u001b[0m\u001b[0;34m\u001b[0m\u001b[0m\n\u001b[0;32m--> 166\u001b[0;31m     \u001b[0mtest\u001b[0m\u001b[0;34m(\u001b[0m\u001b[0mmodel\u001b[0m\u001b[0;34m,\u001b[0m \u001b[0mcriterion\u001b[0m\u001b[0;34m)\u001b[0m\u001b[0;34m\u001b[0m\u001b[0;34m\u001b[0m\u001b[0m\n\u001b[0m",
      "\u001b[0;32m/mnt/c/Users/shuya/Desktop/cais/Kawasaki-Disease-CNN/second_model_20epochs.py\u001b[0m in \u001b[0;36mtest\u001b[0;34m(model, criterion)\u001b[0m\n\u001b[1;32m     69\u001b[0m     \u001b[0mcorrect\u001b[0m \u001b[0;34m=\u001b[0m \u001b[0;36m0.\u001b[0m\u001b[0;34m\u001b[0m\u001b[0;34m\u001b[0m\u001b[0m\n\u001b[1;32m     70\u001b[0m     \u001b[0mtotal\u001b[0m \u001b[0;34m=\u001b[0m \u001b[0;36m0.\u001b[0m\u001b[0;34m\u001b[0m\u001b[0;34m\u001b[0m\u001b[0m\n\u001b[0;32m---> 71\u001b[0;31m     \u001b[0;32mfor\u001b[0m \u001b[0mbatch_idx\u001b[0m\u001b[0;34m,\u001b[0m \u001b[0;34m(\u001b[0m\u001b[0mdata\u001b[0m\u001b[0;34m,\u001b[0m \u001b[0mtarget\u001b[0m\u001b[0;34m)\u001b[0m \u001b[0;32min\u001b[0m \u001b[0menumerate\u001b[0m\u001b[0;34m(\u001b[0m\u001b[0mtest_loader\u001b[0m\u001b[0;34m)\u001b[0m\u001b[0;34m:\u001b[0m\u001b[0;34m\u001b[0m\u001b[0;34m\u001b[0m\u001b[0m\n\u001b[0m\u001b[1;32m     72\u001b[0m         \u001b[0;32mif\u001b[0m \u001b[0mtorch\u001b[0m\u001b[0;34m.\u001b[0m\u001b[0mcuda\u001b[0m\u001b[0;34m.\u001b[0m\u001b[0mis_available\u001b[0m\u001b[0;34m(\u001b[0m\u001b[0;34m)\u001b[0m\u001b[0;34m:\u001b[0m\u001b[0;34m\u001b[0m\u001b[0;34m\u001b[0m\u001b[0m\n\u001b[1;32m     73\u001b[0m             \u001b[0mdata\u001b[0m\u001b[0;34m,\u001b[0m \u001b[0mtarget\u001b[0m \u001b[0;34m=\u001b[0m \u001b[0mdata\u001b[0m\u001b[0;34m.\u001b[0m\u001b[0mcuda\u001b[0m\u001b[0;34m(\u001b[0m\u001b[0;34m)\u001b[0m\u001b[0;34m,\u001b[0m \u001b[0mtarget\u001b[0m\u001b[0;34m.\u001b[0m\u001b[0mcuda\u001b[0m\u001b[0;34m(\u001b[0m\u001b[0;34m)\u001b[0m\u001b[0;34m\u001b[0m\u001b[0;34m\u001b[0m\u001b[0m\n",
      "\u001b[0;31mNameError\u001b[0m: name 'test_loader' is not defined"
     ]
    }
   ],
   "source": [
    "second_model_20epochs.main('Dataset_full/Tongues','tongue_2nd_20epochs.pt')"
   ]
  },
  {
   "cell_type": "code",
   "execution_count": 2,
   "metadata": {},
   "outputs": [
    {
     "name": "stdout",
     "output_type": "stream",
     "text": [
      "Epoch: 1 \tTraining Loss: 1.113672 \tValidation Loss: 0.661026 \tValidation Accuracy: 0.904167\n",
      "Epoch: 2 \tTraining Loss: 0.597780 \tValidation Loss: 0.612278 \tValidation Accuracy: 0.808333\n",
      "Epoch: 3 \tTraining Loss: 0.494888 \tValidation Loss: 0.640923 \tValidation Accuracy: 0.757292\n",
      "Epoch: 4 \tTraining Loss: 0.525940 \tValidation Loss: 0.560144 \tValidation Accuracy: 0.690625\n",
      "Epoch: 5 \tTraining Loss: 0.514936 \tValidation Loss: 0.707766 \tValidation Accuracy: 0.412500\n",
      "Epoch: 6 \tTraining Loss: 0.547357 \tValidation Loss: 0.535832 \tValidation Accuracy: 0.826042\n",
      "Epoch: 7 \tTraining Loss: 0.490384 \tValidation Loss: 0.440273 \tValidation Accuracy: 0.837500\n",
      "Epoch: 8 \tTraining Loss: 0.503347 \tValidation Loss: 0.529139 \tValidation Accuracy: 0.630208\n",
      "Epoch: 9 \tTraining Loss: 0.427574 \tValidation Loss: 0.555586 \tValidation Accuracy: 0.839583\n",
      "Epoch: 10 \tTraining Loss: 0.388892 \tValidation Loss: 0.620795 \tValidation Accuracy: 0.772917\n",
      "Epoch: 11 \tTraining Loss: 0.221002 \tValidation Loss: 0.725195 \tValidation Accuracy: 0.837500\n",
      "Epoch: 12 \tTraining Loss: 0.617093 \tValidation Loss: 0.560393 \tValidation Accuracy: 0.872917\n",
      "Epoch: 13 \tTraining Loss: 0.420186 \tValidation Loss: 0.518340 \tValidation Accuracy: 0.723958\n",
      "Epoch: 14 \tTraining Loss: 0.417557 \tValidation Loss: 0.403328 \tValidation Accuracy: 0.823958\n",
      "Epoch: 15 \tTraining Loss: 0.498959 \tValidation Loss: 0.870467 \tValidation Accuracy: 0.596875\n",
      "Epoch: 16 \tTraining Loss: 0.764076 \tValidation Loss: 0.599254 \tValidation Accuracy: 0.708333\n",
      "Epoch: 17 \tTraining Loss: 0.413554 \tValidation Loss: 0.447094 \tValidation Accuracy: 0.806250\n",
      "Epoch: 18 \tTraining Loss: 0.363680 \tValidation Loss: 0.379148 \tValidation Accuracy: 0.921875\n",
      "Epoch: 19 \tTraining Loss: 0.247146 \tValidation Loss: 0.345480 \tValidation Accuracy: 0.884375\n",
      "Epoch: 20 \tTraining Loss: 0.258523 \tValidation Loss: 0.531939 \tValidation Accuracy: 0.837500\n"
     ]
    }
   ],
   "source": [
    "second_model_20epochs.main('Dataset_full/Eyes','eyes_2nd_20epochs.pt')"
   ]
  },
  {
   "cell_type": "code",
   "execution_count": 36,
   "metadata": {},
   "outputs": [
    {
     "name": "stdout",
     "output_type": "stream",
     "text": [
      "Epoch: 1 \tTraining Loss: 1.131023 \tValidation Loss: 0.618757 \tValidation Accuracy: 0.781250\n",
      "Epoch: 2 \tTraining Loss: 0.614580 \tValidation Loss: 0.534076 \tValidation Accuracy: 0.666667\n",
      "Epoch: 3 \tTraining Loss: 0.527153 \tValidation Loss: 0.469760 \tValidation Accuracy: 0.854167\n",
      "Epoch: 4 \tTraining Loss: 0.447755 \tValidation Loss: 0.370864 \tValidation Accuracy: 0.927083\n",
      "Epoch: 5 \tTraining Loss: 0.400352 \tValidation Loss: 0.325899 \tValidation Accuracy: 0.875000\n",
      "Epoch: 6 \tTraining Loss: 0.412425 \tValidation Loss: 0.320037 \tValidation Accuracy: 0.927083\n",
      "Epoch: 7 \tTraining Loss: 0.377865 \tValidation Loss: 0.404994 \tValidation Accuracy: 0.750000\n",
      "Epoch: 8 \tTraining Loss: 0.406162 \tValidation Loss: 0.297873 \tValidation Accuracy: 0.885417\n",
      "Epoch: 9 \tTraining Loss: 0.388395 \tValidation Loss: 0.307118 \tValidation Accuracy: 0.895833\n",
      "Epoch: 10 \tTraining Loss: 0.412317 \tValidation Loss: 0.255026 \tValidation Accuracy: 0.916667\n",
      "Epoch: 11 \tTraining Loss: 0.398067 \tValidation Loss: 0.323671 \tValidation Accuracy: 0.906250\n",
      "Epoch: 12 \tTraining Loss: 0.327884 \tValidation Loss: 0.188243 \tValidation Accuracy: 0.968750\n",
      "Epoch: 13 \tTraining Loss: 0.261505 \tValidation Loss: 0.321157 \tValidation Accuracy: 0.958333\n",
      "Epoch: 14 \tTraining Loss: 0.373936 \tValidation Loss: 0.359322 \tValidation Accuracy: 0.906250\n",
      "Epoch: 15 \tTraining Loss: 0.321850 \tValidation Loss: 0.537381 \tValidation Accuracy: 0.614583\n",
      "Epoch: 16 \tTraining Loss: 0.425171 \tValidation Loss: 0.185048 \tValidation Accuracy: 0.937500\n",
      "Epoch: 17 \tTraining Loss: 0.318231 \tValidation Loss: 0.489299 \tValidation Accuracy: 0.729167\n",
      "Epoch: 18 \tTraining Loss: 0.277859 \tValidation Loss: 0.137241 \tValidation Accuracy: 0.958333\n",
      "Epoch: 19 \tTraining Loss: 0.249737 \tValidation Loss: 0.266432 \tValidation Accuracy: 0.802083\n",
      "Epoch: 20 \tTraining Loss: 0.289788 \tValidation Loss: 0.289089 \tValidation Accuracy: 0.916667\n"
     ]
    },
    {
     "ename": "NameError",
     "evalue": "name 'test_loader' is not defined",
     "output_type": "error",
     "traceback": [
      "\u001b[0;31m---------------------------------------------------------------------------\u001b[0m",
      "\u001b[0;31mNameError\u001b[0m                                 Traceback (most recent call last)",
      "\u001b[0;32m<ipython-input-36-a03dd0fa6d63>\u001b[0m in \u001b[0;36m<module>\u001b[0;34m\u001b[0m\n\u001b[0;32m----> 1\u001b[0;31m \u001b[0msecond_model_20epochs\u001b[0m\u001b[0;34m.\u001b[0m\u001b[0mmain\u001b[0m\u001b[0;34m(\u001b[0m\u001b[0;34m'Dataset_full/Lips'\u001b[0m\u001b[0;34m,\u001b[0m\u001b[0;34m'lips_2nd_20epochs.pt'\u001b[0m\u001b[0;34m)\u001b[0m\u001b[0;34m\u001b[0m\u001b[0;34m\u001b[0m\u001b[0m\n\u001b[0m",
      "\u001b[0;32m/mnt/c/Users/shuya/Desktop/cais/Kawasaki-Disease-CNN/second_model_20epochs.py\u001b[0m in \u001b[0;36mmain\u001b[0;34m(image_dir, out_path)\u001b[0m\n",
      "\u001b[0;32m/mnt/c/Users/shuya/Desktop/cais/Kawasaki-Disease-CNN/second_model_20epochs.py\u001b[0m in \u001b[0;36mtest\u001b[0;34m(model, criterion)\u001b[0m\n\u001b[1;32m     69\u001b[0m     \u001b[0mDIR\u001b[0m \u001b[0;34m=\u001b[0m \u001b[0mimage_dir\u001b[0m\u001b[0;34m+\u001b[0m\u001b[0;34m'/yes'\u001b[0m\u001b[0;34m\u001b[0m\u001b[0;34m\u001b[0m\u001b[0m\n\u001b[1;32m     70\u001b[0m     \u001b[0mpos_datasize\u001b[0m \u001b[0;34m=\u001b[0m \u001b[0mlen\u001b[0m\u001b[0;34m(\u001b[0m\u001b[0;34m[\u001b[0m\u001b[0mname\u001b[0m \u001b[0;32mfor\u001b[0m \u001b[0mname\u001b[0m \u001b[0;32min\u001b[0m \u001b[0mos\u001b[0m\u001b[0;34m.\u001b[0m\u001b[0mlistdir\u001b[0m\u001b[0;34m(\u001b[0m\u001b[0mDIR\u001b[0m\u001b[0;34m)\u001b[0m \u001b[0;32mif\u001b[0m \u001b[0mos\u001b[0m\u001b[0;34m.\u001b[0m\u001b[0mpath\u001b[0m\u001b[0;34m.\u001b[0m\u001b[0misfile\u001b[0m\u001b[0;34m(\u001b[0m\u001b[0mos\u001b[0m\u001b[0;34m.\u001b[0m\u001b[0mpath\u001b[0m\u001b[0;34m.\u001b[0m\u001b[0mjoin\u001b[0m\u001b[0;34m(\u001b[0m\u001b[0mDIR\u001b[0m\u001b[0;34m,\u001b[0m \u001b[0mname\u001b[0m\u001b[0;34m)\u001b[0m\u001b[0;34m)\u001b[0m\u001b[0;34m]\u001b[0m\u001b[0;34m)\u001b[0m\u001b[0;34m\u001b[0m\u001b[0;34m\u001b[0m\u001b[0m\n\u001b[0;32m---> 71\u001b[0;31m \u001b[0;34m\u001b[0m\u001b[0m\n\u001b[0m\u001b[1;32m     72\u001b[0m     \u001b[0mdataset\u001b[0m \u001b[0;34m=\u001b[0m \u001b[0mdatasets\u001b[0m\u001b[0;34m.\u001b[0m\u001b[0mImageFolder\u001b[0m\u001b[0;34m(\u001b[0m\u001b[0mimage_dir\u001b[0m\u001b[0;34m,\u001b[0m \u001b[0mtransform\u001b[0m\u001b[0;34m=\u001b[0m\u001b[0mtrain_transforms\u001b[0m\u001b[0;34m)\u001b[0m\u001b[0;34m\u001b[0m\u001b[0;34m\u001b[0m\u001b[0m\n\u001b[1;32m     73\u001b[0m     \u001b[0msize_train\u001b[0m \u001b[0;34m=\u001b[0m \u001b[0mlen\u001b[0m\u001b[0;34m(\u001b[0m\u001b[0mdataset\u001b[0m\u001b[0;34m)\u001b[0m\u001b[0;34m\u001b[0m\u001b[0;34m\u001b[0m\u001b[0m\n",
      "\u001b[0;31mNameError\u001b[0m: name 'test_loader' is not defined"
     ]
    }
   ],
   "source": [
    "second_model_20epochs.main('Dataset_full/Lips','lips_2nd_20epochs.pt')"
   ]
  },
  {
   "cell_type": "code",
   "execution_count": 38,
   "metadata": {},
   "outputs": [
    {
     "name": "stdout",
     "output_type": "stream",
     "text": [
      "Epoch: 1 \tTraining Loss: 0.793816 \tValidation Loss: 0.544053 \tValidation Accuracy: 0.688750\n",
      "Epoch: 2 \tTraining Loss: 0.656078 \tValidation Loss: 0.482672 \tValidation Accuracy: 0.823750\n",
      "Epoch: 3 \tTraining Loss: 0.549796 \tValidation Loss: 0.427424 \tValidation Accuracy: 0.880000\n",
      "Epoch: 4 \tTraining Loss: 0.490392 \tValidation Loss: 0.483188 \tValidation Accuracy: 0.787500\n",
      "Epoch: 5 \tTraining Loss: 0.346112 \tValidation Loss: 0.472786 \tValidation Accuracy: 0.811250\n",
      "Epoch: 6 \tTraining Loss: 0.319511 \tValidation Loss: 0.310615 \tValidation Accuracy: 0.905000\n",
      "Epoch: 7 \tTraining Loss: 0.247582 \tValidation Loss: 0.301728 \tValidation Accuracy: 0.898750\n",
      "Epoch: 8 \tTraining Loss: 0.339874 \tValidation Loss: 0.419450 \tValidation Accuracy: 0.856250\n",
      "Epoch: 9 \tTraining Loss: 0.324777 \tValidation Loss: 0.311248 \tValidation Accuracy: 0.867500\n",
      "Epoch: 10 \tTraining Loss: 0.295297 \tValidation Loss: 0.674727 \tValidation Accuracy: 0.741250\n",
      "Epoch: 11 \tTraining Loss: 0.443831 \tValidation Loss: 0.393380 \tValidation Accuracy: 0.867500\n",
      "Epoch: 12 \tTraining Loss: 0.306275 \tValidation Loss: 0.297742 \tValidation Accuracy: 0.862500\n",
      "Epoch: 13 \tTraining Loss: 0.362605 \tValidation Loss: 0.367422 \tValidation Accuracy: 0.841250\n",
      "Epoch: 14 \tTraining Loss: 0.286233 \tValidation Loss: 0.239706 \tValidation Accuracy: 0.906250\n",
      "Epoch: 15 \tTraining Loss: 0.269436 \tValidation Loss: 0.301266 \tValidation Accuracy: 0.881250\n",
      "Epoch: 16 \tTraining Loss: 0.251511 \tValidation Loss: 0.229071 \tValidation Accuracy: 0.937500\n",
      "Epoch: 17 \tTraining Loss: 0.245850 \tValidation Loss: 0.304183 \tValidation Accuracy: 0.911250\n",
      "Epoch: 18 \tTraining Loss: 0.250285 \tValidation Loss: 0.310028 \tValidation Accuracy: 0.855000\n",
      "Epoch: 19 \tTraining Loss: 0.197648 \tValidation Loss: 0.224376 \tValidation Accuracy: 0.950000\n",
      "Epoch: 20 \tTraining Loss: 0.184061 \tValidation Loss: 0.343040 \tValidation Accuracy: 0.872500\n"
     ]
    },
    {
     "ename": "NameError",
     "evalue": "name 'test_loader' is not defined",
     "output_type": "error",
     "traceback": [
      "\u001b[0;31m---------------------------------------------------------------------------\u001b[0m",
      "\u001b[0;31mNameError\u001b[0m                                 Traceback (most recent call last)",
      "\u001b[0;32m<ipython-input-38-dbef2352a085>\u001b[0m in \u001b[0;36m<module>\u001b[0;34m\u001b[0m\n\u001b[0;32m----> 1\u001b[0;31m \u001b[0msecond_model_20epochs\u001b[0m\u001b[0;34m.\u001b[0m\u001b[0mmain\u001b[0m\u001b[0;34m(\u001b[0m\u001b[0;34m'Dataset_full/Skin'\u001b[0m\u001b[0;34m,\u001b[0m\u001b[0;34m'skin_2nd_20epochs.pt'\u001b[0m\u001b[0;34m)\u001b[0m\u001b[0;34m\u001b[0m\u001b[0;34m\u001b[0m\u001b[0m\n\u001b[0m",
      "\u001b[0;32m/mnt/c/Users/shuya/Desktop/cais/Kawasaki-Disease-CNN/second_model_20epochs.py\u001b[0m in \u001b[0;36mmain\u001b[0;34m(image_dir, out_path)\u001b[0m\n",
      "\u001b[0;32m/mnt/c/Users/shuya/Desktop/cais/Kawasaki-Disease-CNN/second_model_20epochs.py\u001b[0m in \u001b[0;36mtest\u001b[0;34m(model, criterion)\u001b[0m\n\u001b[1;32m     69\u001b[0m     \u001b[0mDIR\u001b[0m \u001b[0;34m=\u001b[0m \u001b[0mimage_dir\u001b[0m\u001b[0;34m+\u001b[0m\u001b[0;34m'/yes'\u001b[0m\u001b[0;34m\u001b[0m\u001b[0;34m\u001b[0m\u001b[0m\n\u001b[1;32m     70\u001b[0m     \u001b[0mpos_datasize\u001b[0m \u001b[0;34m=\u001b[0m \u001b[0mlen\u001b[0m\u001b[0;34m(\u001b[0m\u001b[0;34m[\u001b[0m\u001b[0mname\u001b[0m \u001b[0;32mfor\u001b[0m \u001b[0mname\u001b[0m \u001b[0;32min\u001b[0m \u001b[0mos\u001b[0m\u001b[0;34m.\u001b[0m\u001b[0mlistdir\u001b[0m\u001b[0;34m(\u001b[0m\u001b[0mDIR\u001b[0m\u001b[0;34m)\u001b[0m \u001b[0;32mif\u001b[0m \u001b[0mos\u001b[0m\u001b[0;34m.\u001b[0m\u001b[0mpath\u001b[0m\u001b[0;34m.\u001b[0m\u001b[0misfile\u001b[0m\u001b[0;34m(\u001b[0m\u001b[0mos\u001b[0m\u001b[0;34m.\u001b[0m\u001b[0mpath\u001b[0m\u001b[0;34m.\u001b[0m\u001b[0mjoin\u001b[0m\u001b[0;34m(\u001b[0m\u001b[0mDIR\u001b[0m\u001b[0;34m,\u001b[0m \u001b[0mname\u001b[0m\u001b[0;34m)\u001b[0m\u001b[0;34m)\u001b[0m\u001b[0;34m]\u001b[0m\u001b[0;34m)\u001b[0m\u001b[0;34m\u001b[0m\u001b[0;34m\u001b[0m\u001b[0m\n\u001b[0;32m---> 71\u001b[0;31m \u001b[0;34m\u001b[0m\u001b[0m\n\u001b[0m\u001b[1;32m     72\u001b[0m     \u001b[0mdataset\u001b[0m \u001b[0;34m=\u001b[0m \u001b[0mdatasets\u001b[0m\u001b[0;34m.\u001b[0m\u001b[0mImageFolder\u001b[0m\u001b[0;34m(\u001b[0m\u001b[0mimage_dir\u001b[0m\u001b[0;34m,\u001b[0m \u001b[0mtransform\u001b[0m\u001b[0;34m=\u001b[0m\u001b[0mtrain_transforms\u001b[0m\u001b[0;34m)\u001b[0m\u001b[0;34m\u001b[0m\u001b[0;34m\u001b[0m\u001b[0m\n\u001b[1;32m     73\u001b[0m     \u001b[0msize_train\u001b[0m \u001b[0;34m=\u001b[0m \u001b[0mlen\u001b[0m\u001b[0;34m(\u001b[0m\u001b[0mdataset\u001b[0m\u001b[0;34m)\u001b[0m\u001b[0;34m\u001b[0m\u001b[0;34m\u001b[0m\u001b[0m\n",
      "\u001b[0;31mNameError\u001b[0m: name 'test_loader' is not defined"
     ]
    }
   ],
   "source": [
    "second_model_20epochs.main('Dataset_full/Skin','skin_2nd_20epochs.pt')"
   ]
  },
  {
   "cell_type": "code",
   "execution_count": null,
   "metadata": {},
   "outputs": [],
   "source": []
  }
 ],
 "metadata": {
  "kernelspec": {
   "display_name": "Python 3",
   "language": "python",
   "name": "python3"
  },
  "language_info": {
   "codemirror_mode": {
    "name": "ipython",
    "version": 3
   },
   "file_extension": ".py",
   "mimetype": "text/x-python",
   "name": "python",
   "nbconvert_exporter": "python",
   "pygments_lexer": "ipython3",
   "version": "3.7.6"
  }
 },
 "nbformat": 4,
 "nbformat_minor": 2
}
